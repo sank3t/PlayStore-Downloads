{
 "cells": [
  {
   "cell_type": "markdown",
   "metadata": {},
   "source": [
    "#### The dataset used in this notebook will be the dumped data from `Data Preparation Stage 1.ipynb`"
   ]
  },
  {
   "cell_type": "code",
   "execution_count": 1,
   "metadata": {},
   "outputs": [],
   "source": [
    "import os\n",
    "\n",
    "from glob import glob\n",
    "import pandas as pd"
   ]
  },
  {
   "cell_type": "code",
   "execution_count": 2,
   "metadata": {},
   "outputs": [],
   "source": [
    "os.chdir('../data')"
   ]
  },
  {
   "cell_type": "code",
   "execution_count": 3,
   "metadata": {},
   "outputs": [
    {
     "data": {
      "text/plain": [
       "['v1', 'source_data']"
      ]
     },
     "execution_count": 3,
     "metadata": {},
     "output_type": "execute_result"
    }
   ],
   "source": [
    "os.listdir()"
   ]
  },
  {
   "cell_type": "code",
   "execution_count": 4,
   "metadata": {},
   "outputs": [
    {
     "data": {
      "text/plain": [
       "['v1/train.csv', 'v1/test.csv']"
      ]
     },
     "execution_count": 4,
     "metadata": {},
     "output_type": "execute_result"
    }
   ],
   "source": [
    "files = glob('v1/*.csv')\n",
    "\n",
    "files"
   ]
  },
  {
   "cell_type": "code",
   "execution_count": 5,
   "metadata": {},
   "outputs": [],
   "source": [
    "df_train = pd.read_csv('v1/train.csv')\n",
    "df_test = pd.read_csv('v1/test.csv')"
   ]
  },
  {
   "cell_type": "code",
   "execution_count": 6,
   "metadata": {},
   "outputs": [
    {
     "data": {
      "text/html": [
       "<div>\n",
       "<style scoped>\n",
       "    .dataframe tbody tr th:only-of-type {\n",
       "        vertical-align: middle;\n",
       "    }\n",
       "\n",
       "    .dataframe tbody tr th {\n",
       "        vertical-align: top;\n",
       "    }\n",
       "\n",
       "    .dataframe thead th {\n",
       "        text-align: right;\n",
       "    }\n",
       "</style>\n",
       "<table border=\"1\" class=\"dataframe\">\n",
       "  <thead>\n",
       "    <tr style=\"text-align: right;\">\n",
       "      <th></th>\n",
       "      <th>offered_by</th>\n",
       "      <th>category</th>\n",
       "      <th>rating</th>\n",
       "      <th>reviews</th>\n",
       "      <th>size</th>\n",
       "      <th>price</th>\n",
       "      <th>content_rating</th>\n",
       "      <th>last_updated_on</th>\n",
       "      <th>release_version</th>\n",
       "      <th>os_version_required</th>\n",
       "      <th>downloads</th>\n",
       "    </tr>\n",
       "  </thead>\n",
       "  <tbody>\n",
       "    <tr>\n",
       "      <th>0</th>\n",
       "      <td>ps_id-24654</td>\n",
       "      <td>Finance</td>\n",
       "      <td>4.18</td>\n",
       "      <td>1481</td>\n",
       "      <td>Varies with device</td>\n",
       "      <td>Free</td>\n",
       "      <td>Everyone</td>\n",
       "      <td>May 05 2020</td>\n",
       "      <td>Varies with device</td>\n",
       "      <td>Varies with device</td>\n",
       "      <td>100,000+</td>\n",
       "    </tr>\n",
       "    <tr>\n",
       "      <th>1</th>\n",
       "      <td>ps_id-35329</td>\n",
       "      <td>Music And Audio</td>\n",
       "      <td>4.81</td>\n",
       "      <td>302</td>\n",
       "      <td>10M</td>\n",
       "      <td>Free</td>\n",
       "      <td>Everyone</td>\n",
       "      <td>Mar 26 2020</td>\n",
       "      <td>3.9.18</td>\n",
       "      <td>4.1 and up</td>\n",
       "      <td>5,000+</td>\n",
       "    </tr>\n",
       "    <tr>\n",
       "      <th>2</th>\n",
       "      <td>ps_id-11044</td>\n",
       "      <td>Game Casual</td>\n",
       "      <td>4.27</td>\n",
       "      <td>374</td>\n",
       "      <td>27M</td>\n",
       "      <td>Free</td>\n",
       "      <td>Everyone</td>\n",
       "      <td>May 01 2020</td>\n",
       "      <td>1.10.1</td>\n",
       "      <td>4.1 and up</td>\n",
       "      <td>10,000+</td>\n",
       "    </tr>\n",
       "    <tr>\n",
       "      <th>3</th>\n",
       "      <td>ps_id-36068</td>\n",
       "      <td>Business</td>\n",
       "      <td>4.03</td>\n",
       "      <td>122058</td>\n",
       "      <td>Varies with device</td>\n",
       "      <td>Free</td>\n",
       "      <td>Teen</td>\n",
       "      <td>May 02 2020</td>\n",
       "      <td>Varies with device</td>\n",
       "      <td>Varies with device</td>\n",
       "      <td>10,000,000+</td>\n",
       "    </tr>\n",
       "    <tr>\n",
       "      <th>4</th>\n",
       "      <td>ps_id-35831</td>\n",
       "      <td>Medical</td>\n",
       "      <td>4.60</td>\n",
       "      <td>358</td>\n",
       "      <td>Varies with device</td>\n",
       "      <td>297.5742</td>\n",
       "      <td>Everyone</td>\n",
       "      <td>Nov 29 2018</td>\n",
       "      <td>Varies with device</td>\n",
       "      <td>Varies with device</td>\n",
       "      <td>5,000+</td>\n",
       "    </tr>\n",
       "  </tbody>\n",
       "</table>\n",
       "</div>"
      ],
      "text/plain": [
       "    offered_by         category  rating  reviews                size  \\\n",
       "0  ps_id-24654          Finance    4.18     1481  Varies with device   \n",
       "1  ps_id-35329  Music And Audio    4.81      302                 10M   \n",
       "2  ps_id-11044      Game Casual    4.27      374                 27M   \n",
       "3  ps_id-36068         Business    4.03   122058  Varies with device   \n",
       "4  ps_id-35831          Medical    4.60      358  Varies with device   \n",
       "\n",
       "      price content_rating last_updated_on     release_version  \\\n",
       "0      Free       Everyone     May 05 2020  Varies with device   \n",
       "1      Free       Everyone     Mar 26 2020              3.9.18   \n",
       "2      Free       Everyone     May 01 2020              1.10.1   \n",
       "3      Free           Teen     May 02 2020  Varies with device   \n",
       "4  297.5742       Everyone     Nov 29 2018  Varies with device   \n",
       "\n",
       "  os_version_required    downloads  \n",
       "0  Varies with device     100,000+  \n",
       "1          4.1 and up       5,000+  \n",
       "2          4.1 and up      10,000+  \n",
       "3  Varies with device  10,000,000+  \n",
       "4  Varies with device       5,000+  "
      ]
     },
     "execution_count": 6,
     "metadata": {},
     "output_type": "execute_result"
    }
   ],
   "source": [
    "df_train.head()"
   ]
  },
  {
   "cell_type": "code",
   "execution_count": 7,
   "metadata": {},
   "outputs": [],
   "source": [
    "def print_unique_count(df):\n",
    "    for col in df.columns:\n",
    "        print(col, df[col].nunique())"
   ]
  },
  {
   "cell_type": "markdown",
   "metadata": {},
   "source": [
    "### Checking unique value count of columns in training data"
   ]
  },
  {
   "cell_type": "code",
   "execution_count": 8,
   "metadata": {
    "scrolled": true
   },
   "outputs": [
    {
     "name": "stdout",
     "output_type": "stream",
     "text": [
      "offered_by 15520\n",
      "category 51\n",
      "rating 319\n",
      "reviews 9124\n",
      "size 439\n",
      "price 83\n",
      "content_rating 6\n",
      "last_updated_on 1583\n",
      "release_version 4190\n",
      "os_version_required 27\n",
      "downloads 18\n"
     ]
    }
   ],
   "source": [
    "print_unique_count(df_train)"
   ]
  },
  {
   "cell_type": "markdown",
   "metadata": {},
   "source": [
    "### Checking unique value count of columns in testing data"
   ]
  },
  {
   "cell_type": "code",
   "execution_count": 9,
   "metadata": {},
   "outputs": [
    {
     "name": "stdout",
     "output_type": "stream",
     "text": [
      "offered_by 22794\n",
      "category 51\n",
      "rating 327\n",
      "reviews 12507\n",
      "size 560\n",
      "price 95\n",
      "content_rating 6\n",
      "last_updated_on 1783\n",
      "release_version 5681\n",
      "os_version_required 37\n"
     ]
    }
   ],
   "source": [
    "print_unique_count(df_test)"
   ]
  },
  {
   "cell_type": "markdown",
   "metadata": {},
   "source": [
    "#### Observation(s):\n",
    "\n",
    "* The column `offered_by` has values masked and the values available in the form of ids\n",
    "\n",
    "* The count of `offered_by` in test data is more than training data\n",
    "\n",
    "#### Conclusion(s):\n",
    "\n",
    "* It shows that the download range doesn't depend upon client (i.e. `offered_by`)\n",
    "\n",
    "* The column `offered_by` can be dropped from the training and test data"
   ]
  },
  {
   "cell_type": "code",
   "execution_count": 10,
   "metadata": {},
   "outputs": [],
   "source": [
    "df_train.drop(columns=['offered_by'], inplace=True)\n",
    "df_test.drop(columns=['offered_by'], inplace=True)"
   ]
  },
  {
   "cell_type": "code",
   "execution_count": 11,
   "metadata": {},
   "outputs": [
    {
     "data": {
      "text/html": [
       "<div>\n",
       "<style scoped>\n",
       "    .dataframe tbody tr th:only-of-type {\n",
       "        vertical-align: middle;\n",
       "    }\n",
       "\n",
       "    .dataframe tbody tr th {\n",
       "        vertical-align: top;\n",
       "    }\n",
       "\n",
       "    .dataframe thead th {\n",
       "        text-align: right;\n",
       "    }\n",
       "</style>\n",
       "<table border=\"1\" class=\"dataframe\">\n",
       "  <thead>\n",
       "    <tr style=\"text-align: right;\">\n",
       "      <th></th>\n",
       "      <th>category</th>\n",
       "      <th>rating</th>\n",
       "      <th>reviews</th>\n",
       "      <th>size</th>\n",
       "      <th>price</th>\n",
       "      <th>content_rating</th>\n",
       "      <th>last_updated_on</th>\n",
       "      <th>release_version</th>\n",
       "      <th>os_version_required</th>\n",
       "      <th>downloads</th>\n",
       "    </tr>\n",
       "  </thead>\n",
       "  <tbody>\n",
       "    <tr>\n",
       "      <th>0</th>\n",
       "      <td>Finance</td>\n",
       "      <td>4.18</td>\n",
       "      <td>1481</td>\n",
       "      <td>Varies with device</td>\n",
       "      <td>Free</td>\n",
       "      <td>Everyone</td>\n",
       "      <td>May 05 2020</td>\n",
       "      <td>Varies with device</td>\n",
       "      <td>Varies with device</td>\n",
       "      <td>100,000+</td>\n",
       "    </tr>\n",
       "    <tr>\n",
       "      <th>1</th>\n",
       "      <td>Music And Audio</td>\n",
       "      <td>4.81</td>\n",
       "      <td>302</td>\n",
       "      <td>10M</td>\n",
       "      <td>Free</td>\n",
       "      <td>Everyone</td>\n",
       "      <td>Mar 26 2020</td>\n",
       "      <td>3.9.18</td>\n",
       "      <td>4.1 and up</td>\n",
       "      <td>5,000+</td>\n",
       "    </tr>\n",
       "    <tr>\n",
       "      <th>2</th>\n",
       "      <td>Game Casual</td>\n",
       "      <td>4.27</td>\n",
       "      <td>374</td>\n",
       "      <td>27M</td>\n",
       "      <td>Free</td>\n",
       "      <td>Everyone</td>\n",
       "      <td>May 01 2020</td>\n",
       "      <td>1.10.1</td>\n",
       "      <td>4.1 and up</td>\n",
       "      <td>10,000+</td>\n",
       "    </tr>\n",
       "    <tr>\n",
       "      <th>3</th>\n",
       "      <td>Business</td>\n",
       "      <td>4.03</td>\n",
       "      <td>122058</td>\n",
       "      <td>Varies with device</td>\n",
       "      <td>Free</td>\n",
       "      <td>Teen</td>\n",
       "      <td>May 02 2020</td>\n",
       "      <td>Varies with device</td>\n",
       "      <td>Varies with device</td>\n",
       "      <td>10,000,000+</td>\n",
       "    </tr>\n",
       "    <tr>\n",
       "      <th>4</th>\n",
       "      <td>Medical</td>\n",
       "      <td>4.60</td>\n",
       "      <td>358</td>\n",
       "      <td>Varies with device</td>\n",
       "      <td>297.5742</td>\n",
       "      <td>Everyone</td>\n",
       "      <td>Nov 29 2018</td>\n",
       "      <td>Varies with device</td>\n",
       "      <td>Varies with device</td>\n",
       "      <td>5,000+</td>\n",
       "    </tr>\n",
       "  </tbody>\n",
       "</table>\n",
       "</div>"
      ],
      "text/plain": [
       "          category  rating  reviews                size     price  \\\n",
       "0          Finance    4.18     1481  Varies with device      Free   \n",
       "1  Music And Audio    4.81      302                 10M      Free   \n",
       "2      Game Casual    4.27      374                 27M      Free   \n",
       "3         Business    4.03   122058  Varies with device      Free   \n",
       "4          Medical    4.60      358  Varies with device  297.5742   \n",
       "\n",
       "  content_rating last_updated_on     release_version os_version_required  \\\n",
       "0       Everyone     May 05 2020  Varies with device  Varies with device   \n",
       "1       Everyone     Mar 26 2020              3.9.18          4.1 and up   \n",
       "2       Everyone     May 01 2020              1.10.1          4.1 and up   \n",
       "3           Teen     May 02 2020  Varies with device  Varies with device   \n",
       "4       Everyone     Nov 29 2018  Varies with device  Varies with device   \n",
       "\n",
       "     downloads  \n",
       "0     100,000+  \n",
       "1       5,000+  \n",
       "2      10,000+  \n",
       "3  10,000,000+  \n",
       "4       5,000+  "
      ]
     },
     "execution_count": 11,
     "metadata": {},
     "output_type": "execute_result"
    }
   ],
   "source": [
    "df_train.head()"
   ]
  },
  {
   "cell_type": "code",
   "execution_count": 12,
   "metadata": {},
   "outputs": [
    {
     "data": {
      "text/html": [
       "<div>\n",
       "<style scoped>\n",
       "    .dataframe tbody tr th:only-of-type {\n",
       "        vertical-align: middle;\n",
       "    }\n",
       "\n",
       "    .dataframe tbody tr th {\n",
       "        vertical-align: top;\n",
       "    }\n",
       "\n",
       "    .dataframe thead th {\n",
       "        text-align: right;\n",
       "    }\n",
       "</style>\n",
       "<table border=\"1\" class=\"dataframe\">\n",
       "  <thead>\n",
       "    <tr style=\"text-align: right;\">\n",
       "      <th></th>\n",
       "      <th>category</th>\n",
       "      <th>rating</th>\n",
       "      <th>reviews</th>\n",
       "      <th>size</th>\n",
       "      <th>price</th>\n",
       "      <th>content_rating</th>\n",
       "      <th>last_updated_on</th>\n",
       "      <th>release_version</th>\n",
       "      <th>os_version_required</th>\n",
       "    </tr>\n",
       "  </thead>\n",
       "  <tbody>\n",
       "    <tr>\n",
       "      <th>0</th>\n",
       "      <td>Game Puzzle</td>\n",
       "      <td>4.52</td>\n",
       "      <td>1362</td>\n",
       "      <td>36M</td>\n",
       "      <td>Free</td>\n",
       "      <td>Everyone</td>\n",
       "      <td>May 05 2020</td>\n",
       "      <td>1.4.1</td>\n",
       "      <td>4.0.3 and up</td>\n",
       "    </tr>\n",
       "    <tr>\n",
       "      <th>1</th>\n",
       "      <td>Shopping</td>\n",
       "      <td>4.29</td>\n",
       "      <td>3353</td>\n",
       "      <td>Varies with device</td>\n",
       "      <td>Free</td>\n",
       "      <td>Teen</td>\n",
       "      <td>May 05 2020</td>\n",
       "      <td>Varies with device</td>\n",
       "      <td>Varies with device</td>\n",
       "    </tr>\n",
       "    <tr>\n",
       "      <th>2</th>\n",
       "      <td>Photography</td>\n",
       "      <td>4.55</td>\n",
       "      <td>161855</td>\n",
       "      <td>Varies with device</td>\n",
       "      <td>Free</td>\n",
       "      <td>Everyone</td>\n",
       "      <td>May 05 2020</td>\n",
       "      <td>Varies with device</td>\n",
       "      <td>Varies with device</td>\n",
       "    </tr>\n",
       "    <tr>\n",
       "      <th>3</th>\n",
       "      <td>Game Action</td>\n",
       "      <td>3.97</td>\n",
       "      <td>545</td>\n",
       "      <td>16M</td>\n",
       "      <td>Free</td>\n",
       "      <td>Everyone</td>\n",
       "      <td>Dec 07 2016</td>\n",
       "      <td>2</td>\n",
       "      <td>4.1 and up</td>\n",
       "    </tr>\n",
       "    <tr>\n",
       "      <th>4</th>\n",
       "      <td>Photography</td>\n",
       "      <td>4.65</td>\n",
       "      <td>1672</td>\n",
       "      <td>33M</td>\n",
       "      <td>Free</td>\n",
       "      <td>Everyone</td>\n",
       "      <td>Jan 25 2020</td>\n",
       "      <td>1</td>\n",
       "      <td>4.4 and up</td>\n",
       "    </tr>\n",
       "  </tbody>\n",
       "</table>\n",
       "</div>"
      ],
      "text/plain": [
       "      category  rating  reviews                size price content_rating  \\\n",
       "0  Game Puzzle    4.52     1362                 36M  Free       Everyone   \n",
       "1     Shopping    4.29     3353  Varies with device  Free           Teen   \n",
       "2  Photography    4.55   161855  Varies with device  Free       Everyone   \n",
       "3  Game Action    3.97      545                 16M  Free       Everyone   \n",
       "4  Photography    4.65     1672                 33M  Free       Everyone   \n",
       "\n",
       "  last_updated_on     release_version os_version_required  \n",
       "0     May 05 2020               1.4.1        4.0.3 and up  \n",
       "1     May 05 2020  Varies with device  Varies with device  \n",
       "2     May 05 2020  Varies with device  Varies with device  \n",
       "3     Dec 07 2016                   2          4.1 and up  \n",
       "4     Jan 25 2020                   1          4.4 and up  "
      ]
     },
     "execution_count": 12,
     "metadata": {},
     "output_type": "execute_result"
    }
   ],
   "source": [
    "df_test.head()"
   ]
  },
  {
   "cell_type": "markdown",
   "metadata": {},
   "source": [
    "### Dumping training data and testing data in a new directory"
   ]
  },
  {
   "cell_type": "code",
   "execution_count": 13,
   "metadata": {},
   "outputs": [],
   "source": [
    "if not os.path.exists('v2'):\n",
    "    os.mkdir('v2')"
   ]
  },
  {
   "cell_type": "code",
   "execution_count": 14,
   "metadata": {},
   "outputs": [],
   "source": [
    "df_train.to_csv('v2/train.csv', index=False)\n",
    "df_test.to_csv('v2/test.csv', index=False)"
   ]
  }
 ],
 "metadata": {
  "kernelspec": {
   "display_name": "Python 3",
   "language": "python",
   "name": "python3"
  },
  "language_info": {
   "codemirror_mode": {
    "name": "ipython",
    "version": 3
   },
   "file_extension": ".py",
   "mimetype": "text/x-python",
   "name": "python",
   "nbconvert_exporter": "python",
   "pygments_lexer": "ipython3",
   "version": "3.8.2"
  }
 },
 "nbformat": 4,
 "nbformat_minor": 4
}
