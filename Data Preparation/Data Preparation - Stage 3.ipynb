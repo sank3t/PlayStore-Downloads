{
 "cells": [
  {
   "cell_type": "markdown",
   "metadata": {},
   "source": [
    "#### The dataset used in this notebook will be the dumped data from Data Preparation Stage 2.ipynb"
   ]
  },
  {
   "cell_type": "code",
   "execution_count": 1,
   "metadata": {},
   "outputs": [],
   "source": [
    "import os\n",
    "\n",
    "from glob import glob\n",
    "import pandas as pd\n",
    "import numpy as np"
   ]
  },
  {
   "cell_type": "code",
   "execution_count": 2,
   "metadata": {},
   "outputs": [],
   "source": [
    "os.chdir('../data')"
   ]
  },
  {
   "cell_type": "code",
   "execution_count": 3,
   "metadata": {},
   "outputs": [
    {
     "data": {
      "text/plain": [
       "['.ipynb_checkpoints', 'v1', 'source_data', 'v2']"
      ]
     },
     "execution_count": 3,
     "metadata": {},
     "output_type": "execute_result"
    }
   ],
   "source": [
    "os.listdir()"
   ]
  },
  {
   "cell_type": "code",
   "execution_count": 4,
   "metadata": {},
   "outputs": [
    {
     "data": {
      "text/plain": [
       "['v2/train.csv', 'v2/test.csv']"
      ]
     },
     "execution_count": 4,
     "metadata": {},
     "output_type": "execute_result"
    }
   ],
   "source": [
    "files = glob('v2/*.csv')\n",
    "\n",
    "files"
   ]
  },
  {
   "cell_type": "code",
   "execution_count": 5,
   "metadata": {},
   "outputs": [],
   "source": [
    "df_train = pd.read_csv('v2/train.csv', parse_dates=['last_updated_on'])\n",
    "df_test = pd.read_csv('v2/test.csv', parse_dates=['last_updated_on'])"
   ]
  },
  {
   "cell_type": "code",
   "execution_count": 6,
   "metadata": {},
   "outputs": [
    {
     "data": {
      "text/html": [
       "<div>\n",
       "<style scoped>\n",
       "    .dataframe tbody tr th:only-of-type {\n",
       "        vertical-align: middle;\n",
       "    }\n",
       "\n",
       "    .dataframe tbody tr th {\n",
       "        vertical-align: top;\n",
       "    }\n",
       "\n",
       "    .dataframe thead th {\n",
       "        text-align: right;\n",
       "    }\n",
       "</style>\n",
       "<table border=\"1\" class=\"dataframe\">\n",
       "  <thead>\n",
       "    <tr style=\"text-align: right;\">\n",
       "      <th></th>\n",
       "      <th>category</th>\n",
       "      <th>rating</th>\n",
       "      <th>reviews</th>\n",
       "      <th>size</th>\n",
       "      <th>price</th>\n",
       "      <th>content_rating</th>\n",
       "      <th>last_updated_on</th>\n",
       "      <th>release_version</th>\n",
       "      <th>os_version_required</th>\n",
       "      <th>downloads</th>\n",
       "    </tr>\n",
       "  </thead>\n",
       "  <tbody>\n",
       "    <tr>\n",
       "      <th>0</th>\n",
       "      <td>Finance</td>\n",
       "      <td>4.18</td>\n",
       "      <td>1481</td>\n",
       "      <td>Varies with device</td>\n",
       "      <td>Free</td>\n",
       "      <td>Everyone</td>\n",
       "      <td>2020-05-05</td>\n",
       "      <td>Varies with device</td>\n",
       "      <td>Varies with device</td>\n",
       "      <td>100,000+</td>\n",
       "    </tr>\n",
       "    <tr>\n",
       "      <th>1</th>\n",
       "      <td>Music And Audio</td>\n",
       "      <td>4.81</td>\n",
       "      <td>302</td>\n",
       "      <td>10M</td>\n",
       "      <td>Free</td>\n",
       "      <td>Everyone</td>\n",
       "      <td>2020-03-26</td>\n",
       "      <td>3.9.18</td>\n",
       "      <td>4.1 and up</td>\n",
       "      <td>5,000+</td>\n",
       "    </tr>\n",
       "    <tr>\n",
       "      <th>2</th>\n",
       "      <td>Game Casual</td>\n",
       "      <td>4.27</td>\n",
       "      <td>374</td>\n",
       "      <td>27M</td>\n",
       "      <td>Free</td>\n",
       "      <td>Everyone</td>\n",
       "      <td>2020-05-01</td>\n",
       "      <td>1.10.1</td>\n",
       "      <td>4.1 and up</td>\n",
       "      <td>10,000+</td>\n",
       "    </tr>\n",
       "    <tr>\n",
       "      <th>3</th>\n",
       "      <td>Business</td>\n",
       "      <td>4.03</td>\n",
       "      <td>122058</td>\n",
       "      <td>Varies with device</td>\n",
       "      <td>Free</td>\n",
       "      <td>Teen</td>\n",
       "      <td>2020-05-02</td>\n",
       "      <td>Varies with device</td>\n",
       "      <td>Varies with device</td>\n",
       "      <td>10,000,000+</td>\n",
       "    </tr>\n",
       "    <tr>\n",
       "      <th>4</th>\n",
       "      <td>Medical</td>\n",
       "      <td>4.60</td>\n",
       "      <td>358</td>\n",
       "      <td>Varies with device</td>\n",
       "      <td>297.5742</td>\n",
       "      <td>Everyone</td>\n",
       "      <td>2018-11-29</td>\n",
       "      <td>Varies with device</td>\n",
       "      <td>Varies with device</td>\n",
       "      <td>5,000+</td>\n",
       "    </tr>\n",
       "  </tbody>\n",
       "</table>\n",
       "</div>"
      ],
      "text/plain": [
       "          category  rating  reviews                size     price  \\\n",
       "0          Finance    4.18     1481  Varies with device      Free   \n",
       "1  Music And Audio    4.81      302                 10M      Free   \n",
       "2      Game Casual    4.27      374                 27M      Free   \n",
       "3         Business    4.03   122058  Varies with device      Free   \n",
       "4          Medical    4.60      358  Varies with device  297.5742   \n",
       "\n",
       "  content_rating last_updated_on     release_version os_version_required  \\\n",
       "0       Everyone      2020-05-05  Varies with device  Varies with device   \n",
       "1       Everyone      2020-03-26              3.9.18          4.1 and up   \n",
       "2       Everyone      2020-05-01              1.10.1          4.1 and up   \n",
       "3           Teen      2020-05-02  Varies with device  Varies with device   \n",
       "4       Everyone      2018-11-29  Varies with device  Varies with device   \n",
       "\n",
       "     downloads  \n",
       "0     100,000+  \n",
       "1       5,000+  \n",
       "2      10,000+  \n",
       "3  10,000,000+  \n",
       "4       5,000+  "
      ]
     },
     "execution_count": 6,
     "metadata": {},
     "output_type": "execute_result"
    }
   ],
   "source": [
    "df_train.head()"
   ]
  },
  {
   "cell_type": "markdown",
   "metadata": {},
   "source": [
    "### Checking the possible set of values in the following columns:\n",
    "\n",
    "* size\n",
    "* price\n",
    "* content_rating\n",
    "* release_version\n",
    "* os_version_required"
   ]
  },
  {
   "cell_type": "code",
   "execution_count": 7,
   "metadata": {},
   "outputs": [
    {
     "data": {
      "text/plain": [
       "Varies with device    1884\n",
       "11M                    395\n",
       "12M                    340\n",
       "15M                    323\n",
       "14M                    321\n",
       "                      ... \n",
       "793k                     1\n",
       "602k                     1\n",
       "611k                     1\n",
       "99k                      1\n",
       "63k                      1\n",
       "Name: size, Length: 439, dtype: int64"
      ]
     },
     "execution_count": 7,
     "metadata": {},
     "output_type": "execute_result"
    }
   ],
   "source": [
    "df_train['size'].value_counts()"
   ]
  },
  {
   "cell_type": "code",
   "execution_count": 8,
   "metadata": {},
   "outputs": [
    {
     "data": {
      "text/plain": [
       "Free         15367\n",
       "222.9942       183\n",
       "73.8342        162\n",
       "148.4142       153\n",
       "372.1542       120\n",
       "             ...  \n",
       "369.171          1\n",
       "178.992          1\n",
       "342.3222         1\n",
       "1789.1742        1\n",
       "319.9482         1\n",
       "Name: price, Length: 83, dtype: int64"
      ]
     },
     "execution_count": 8,
     "metadata": {},
     "output_type": "execute_result"
    }
   ],
   "source": [
    "df_train['price'].value_counts()"
   ]
  },
  {
   "cell_type": "markdown",
   "metadata": {},
   "source": [
    "**Conclusion:**\n",
    "\n",
    "* `Free` will be replace with 0"
   ]
  },
  {
   "cell_type": "code",
   "execution_count": 9,
   "metadata": {},
   "outputs": [
    {
     "data": {
      "text/plain": [
       "Everyone           13836\n",
       "Teen                1578\n",
       "Everyone 10+         586\n",
       "Mature 17+           422\n",
       "Adults only 18+        4\n",
       "Unrated                2\n",
       "Name: content_rating, dtype: int64"
      ]
     },
     "execution_count": 9,
     "metadata": {},
     "output_type": "execute_result"
    }
   ],
   "source": [
    "df_train['content_rating'].value_counts()"
   ]
  },
  {
   "cell_type": "code",
   "execution_count": 10,
   "metadata": {},
   "outputs": [
    {
     "data": {
      "text/plain": [
       "Varies with device        1505\n",
       "1                          769\n",
       "1.1                        346\n",
       "1.2                        276\n",
       "1.3                        229\n",
       "                          ... \n",
       "5.11.40                      1\n",
       "8.10.0                       1\n",
       "8.389                        1\n",
       "Scriptedbreak (1.6.11)       1\n",
       "V1.0.0-475-gca07a667         1\n",
       "Name: release_version, Length: 4190, dtype: int64"
      ]
     },
     "execution_count": 10,
     "metadata": {},
     "output_type": "execute_result"
    }
   ],
   "source": [
    "df_train['release_version'].value_counts()"
   ]
  },
  {
   "cell_type": "code",
   "execution_count": 11,
   "metadata": {},
   "outputs": [
    {
     "data": {
      "text/plain": [
       "4.1 and up            4348\n",
       "4.0.3 and up          2543\n",
       "4.0 and up            1885\n",
       "4.4 and up            1816\n",
       "Varies with device    1421\n",
       "5.0 and up            1276\n",
       "2.3 and up             751\n",
       "4.2 and up             689\n",
       "4.3 and up             347\n",
       "2.3.3 and up           288\n",
       "2.2 and up             250\n",
       "3.0 and up             235\n",
       "6.0 and up             140\n",
       "2.1 and up             116\n",
       "5.1 and up              64\n",
       "1.6 and up              62\n",
       "7.0 and up              48\n",
       "1.5 and up              36\n",
       "2.0 and up              29\n",
       "3.2 and up              29\n",
       "4.4w and up             15\n",
       "8.0 and up              12\n",
       "3.1 and up              12\n",
       "2.0.1 and up             9\n",
       "7.1 and up               5\n",
       "1.0 and up               1\n",
       "1.1 and up               1\n",
       "Name: os_version_required, dtype: int64"
      ]
     },
     "execution_count": 11,
     "metadata": {},
     "output_type": "execute_result"
    }
   ],
   "source": [
    "df_train['os_version_required'].value_counts()"
   ]
  },
  {
   "cell_type": "code",
   "execution_count": 12,
   "metadata": {},
   "outputs": [
    {
     "data": {
      "text/plain": [
       "100,000+          3156\n",
       "1,000,000+        2693\n",
       "10,000+           2235\n",
       "500,000+          1353\n",
       "10,000,000+       1255\n",
       "50,000+           1242\n",
       "1,000+            1218\n",
       "5,000,000+         895\n",
       "5,000+             763\n",
       "100+               508\n",
       "500+               363\n",
       "100,000,000+       260\n",
       "50,000,000+        240\n",
       "10+                 91\n",
       "50+                 84\n",
       "500,000,000+        39\n",
       "1,000,000,000+      32\n",
       "5,000,000,000+       1\n",
       "Name: downloads, dtype: int64"
      ]
     },
     "execution_count": 12,
     "metadata": {},
     "output_type": "execute_result"
    }
   ],
   "source": [
    "df_train['downloads'].value_counts()"
   ]
  },
  {
   "cell_type": "code",
   "execution_count": 13,
   "metadata": {},
   "outputs": [
    {
     "data": {
      "text/plain": [
       "Varies with device    2912\n",
       "11M                    618\n",
       "12M                    528\n",
       "13M                    454\n",
       "14M                    436\n",
       "                      ... \n",
       "28k                      1\n",
       "998k                     1\n",
       "729k                     1\n",
       "500k                     1\n",
       "459k                     1\n",
       "Name: size, Length: 560, dtype: int64"
      ]
     },
     "execution_count": 13,
     "metadata": {},
     "output_type": "execute_result"
    }
   ],
   "source": [
    "df_test['size'].value_counts()"
   ]
  },
  {
   "cell_type": "markdown",
   "metadata": {},
   "source": [
    "## Transforming training and testing data"
   ]
  },
  {
   "cell_type": "markdown",
   "metadata": {},
   "source": [
    "### a. Replacing `Free` value of `price` by 0"
   ]
  },
  {
   "cell_type": "code",
   "execution_count": 14,
   "metadata": {},
   "outputs": [],
   "source": [
    "df_train['price_transformed'] = df_train['price'].str.replace('Free', '0')\n",
    "df_test['price_transformed'] = df_test['price'].str.replace('Free', '0')\n",
    "\n",
    "\n",
    "df_train['price_transformed'] = df_train['price_transformed'].astype('float')\n",
    "df_test['price_transformed'] = df_test['price_transformed'].astype('float')"
   ]
  },
  {
   "cell_type": "markdown",
   "metadata": {},
   "source": [
    "### b. Replacing `Varies with device` by NaN"
   ]
  },
  {
   "cell_type": "code",
   "execution_count": 15,
   "metadata": {},
   "outputs": [],
   "source": [
    "df_train['size_transformed'] = df_train['size'].replace('Varies with device', np.nan)\n",
    "df_train['release_transformed'] = df_train['release_version'].replace('Varies with device', np.nan)\n",
    "df_train['os_transformed'] = df_train['os_version_required'].replace('Varies with device', np.nan)\n",
    "\n",
    "\n",
    "df_test['size_transformed'] = df_test['size'].replace('Varies with device', np.nan)\n",
    "df_test['release_transformed'] = df_test['release_version'].replace('Varies with device', np.nan)\n",
    "df_test['os_transformed'] = df_test['os_version_required'].replace('Varies with device', np.nan)"
   ]
  },
  {
   "cell_type": "markdown",
   "metadata": {},
   "source": [
    "### c. Dropping the unnecessary columns "
   ]
  },
  {
   "cell_type": "code",
   "execution_count": 16,
   "metadata": {},
   "outputs": [],
   "source": [
    "to_drop = ['price', 'size', 'release_version', 'os_version_required']\n",
    "\n",
    "df_train.drop(columns=to_drop, inplace=True)\n",
    "df_test.drop(columns=to_drop, inplace=True)"
   ]
  },
  {
   "cell_type": "markdown",
   "metadata": {},
   "source": [
    "### d. Ordering the columns"
   ]
  },
  {
   "cell_type": "code",
   "execution_count": 17,
   "metadata": {},
   "outputs": [],
   "source": [
    "training_data_cols = ['category', 'rating', 'reviews', 'content_rating', \n",
    "                      'last_updated_on', 'price_transformed', 'size_transformed',\n",
    "                      'release_transformed', 'os_transformed', 'downloads']\n",
    "\n",
    "df_train = df_train[training_data_cols]\n",
    "df_test = df_test[training_data_cols[:-1]]"
   ]
  },
  {
   "cell_type": "markdown",
   "metadata": {},
   "source": [
    "### Dumping training and testing data in a new directory¶"
   ]
  },
  {
   "cell_type": "code",
   "execution_count": 18,
   "metadata": {},
   "outputs": [],
   "source": [
    "if not os.path.exists('v3'):\n",
    "    os.mkdir('v3')"
   ]
  },
  {
   "cell_type": "code",
   "execution_count": 19,
   "metadata": {},
   "outputs": [],
   "source": [
    "df_train.to_csv('v3/train.csv', index=False)\n",
    "df_test.to_csv('v3/test.csv', index=False)"
   ]
  }
 ],
 "metadata": {
  "kernelspec": {
   "display_name": "Python 3",
   "language": "python",
   "name": "python3"
  },
  "language_info": {
   "codemirror_mode": {
    "name": "ipython",
    "version": 3
   },
   "file_extension": ".py",
   "mimetype": "text/x-python",
   "name": "python",
   "nbconvert_exporter": "python",
   "pygments_lexer": "ipython3",
   "version": "3.8.2"
  }
 },
 "nbformat": 4,
 "nbformat_minor": 4
}
